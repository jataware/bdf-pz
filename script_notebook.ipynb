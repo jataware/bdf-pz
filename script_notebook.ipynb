{
  "cells": [
    {
      "cell_type": "code",
      "execution_count": 1,
      "id": "53df6f72",
      "metadata": {},
      "outputs": [
        {
          "name": "stderr",
          "output_type": "stream",
          "text": [
            "/home/gerardo/.local/share/mamba/envs/palimpzest/lib/python3.11/site-packages/tqdm/auto.py:21: TqdmWarning: IProgress not found. Please update jupyter and ipywidgets. See https://ipywidgets.readthedocs.io/en/stable/user_install.html\n",
            "  from .autonotebook import tqdm as notebook_tqdm\n"
          ]
        }
      ],
      "source": [
        "import palimpzest as pz\n",
        "import pandas as pd\n",
        "import time\n",
        "import os\n",
        "import IPython\n",
        "\n",
        "\n",
        "class ScientificPaper(pz.PDFFile):\n",
        "   \"\"\"Represents a scientific research paper, which in practice is usually from a PDF file\"\"\"\n",
        "   paper_title = pz.Field(desc=\"The title of the paper. This is a natural language title, not a number or letter.\", required=True)\n",
        "   author = pz.Field(desc=\"The name of the first author of the paper\", required=True)\n",
        "   abstract = pz.Field(desc=\"A short description of the paper contributions and findings\", required=False)\n",
        "\n",
        "class Reference(pz.Schema):\n",
        "    \"\"\" Represents a reference to another paper, which is cited in a scientific paper\"\"\"\n",
        "    index = pz.Field(desc=\"The index of the reference in the paper\", required=True)\n",
        "    title = pz.Field(desc=\"The title of the paper being cited\", required=True)\n",
        "    first_author = pz.Field(desc=\"The author of the paper being cited\", required=True)\n",
        "    year = pz.Field(desc=\"The year in which the cited paper was published\", required=True)\n"
      ]
    },
    {
      "cell_type": "code",
      "execution_count": 3,
      "id": "7c892b97",
      "metadata": {},
      "outputs": [
        {
          "name": "stdout",
          "output_type": "stream",
          "text": [
            "Setting dataset\n",
            "Dataset(schema=ScientificPaper(abstract, author, contents, filename, paper_title, text_contents), desc=Apply filter(s), filter=Filter(The paper is published after 2021), udf=None, aggFunc=None, limit=None, uid=d1855ec127)\n"
          ]
        }
      ],
      "source": [
        "if \"dataset\" not in locals():\n",
        "    print(\"Setting dataset\")\n",
        "    dataset = pz.Dataset(\"bdf-demo\", schema=ScientificPaper)\n",
        "condition = \"The paper is published after 2021\"\n",
        "\n",
        "dataset = dataset.filter(condition)\n",
        "print(dataset)"
      ]
    },
    {
      "cell_type": "code",
      "execution_count": 4,
      "id": "7860fc19",
      "metadata": {},
      "outputs": [
        {
          "data": {
            "text/plain": [
              "__main__.AuthorAffiliationSchema"
            ]
          },
          "execution_count": 4,
          "metadata": {},
          "output_type": "execute_result"
        }
      ],
      "source": [
        "# Define a class name\n",
        "class_name = \"AuthorAffiliationSchema\"\n",
        "# Create the class dynamically\n",
        "attributes = {\"__doc__\": \" Schema to extract authors and their affiliations from scientific papers.\"}\n",
        "\n",
        "# Custom __repr__ to output detailed information about the class and its fields\n",
        "def custom_repr(self):\n",
        "    class_info = [f\"{class_name}: {self.__doc__}\"]\n",
        "    for name, field in self.__class__.__dict__.items():\n",
        "        if isinstance(field, pz.Field):\n",
        "            class_info.append(f\"{name}: description='{field.desc}', required={field.required}\")\n",
        "    return \"\\n\".join(class_info)\n",
        "\n",
        "# Add the custom __repr__ method to the class attributes\n",
        "attributes[\"__repr__\"] = custom_repr\n",
        "\n",
        "for name, desc, required in zip(['author_name', 'affiliation'], ['Name of the author', 'Affiliation of the author'], [True, True]):\n",
        "    attributes[name] = pz.Field(desc=desc, required=required)\n",
        "\n",
        "# Create the class dynamically using type()\n",
        "new_class = type(class_name, (pz.Schema,), attributes)\n",
        "\n",
        "# Assign the dynamically created class to a variable using globals()\n",
        "globals()[class_name] = new_class\n",
        "\n",
        "new_class"
      ]
    },
    {
      "cell_type": "code",
      "execution_count": 5,
      "id": "2aa99409",
      "metadata": {},
      "outputs": [
        {
          "name": "stdout",
          "output_type": "stream",
          "text": [
            "Time for planning:  0.04557490348815918\n"
          ]
        },
        {
          "name": "stderr",
          "output_type": "stream",
          "text": [
            "WARNING:root:\t*** In DSPy 2.5, all LM clients except `dspy.LM` are deprecated. ***\n",
            " \t\tYou are using the client GPT3, which will be removed in DSPy 2.6.\n",
            " \t\tChanging the client is straightforward and will let you use new features (Adapters) that improve the consistency of LM outputs, especially when using chat LMs. \n",
            "\n",
            " \t\tLearn more about the changes and how to migrate at\n",
            " \t\thttps://github.com/stanfordnlp/dspy/blob/main/examples/migration.ipynb\n"
          ]
        },
        {
          "name": "stdout",
          "output_type": "stream",
          "text": [
            "{'affiliation': 'CEINGE Biotecnologie Avanzate s.c.ar.l., Naples, Italy', 'author_name': 'Ferdinando Bon ﬁglio'}\n",
            "{'affiliation': 'Department of Chemical, Materials and Production Engineering, University of Naples Federico II, Naples, Italy', 'author_name': 'Ferdinando Bon ﬁglio'}\n",
            "{'affiliation': 'Department of Molecular Medicine and Medical Biotechnologies, University of Naples Federico II, Naples, Italy', 'author_name': 'Ferdinando Bon ﬁglio'}\n",
            "{'affiliation': 'European School of Medical Medicine, University of Milan, Milan, Italy', 'author_name': 'Ferdinando Bon ﬁglio'}\n",
            "{'affiliation': 'Laboratory of Molecular Biology, IRCCS Istituto Giannina Gaslini, Genova, Italy', 'author_name': 'Ferdinando Bon ﬁglio'}\n",
            "{'affiliation': 'Department of Medical Biotechnologies, University of Siena, Siena, Italy', 'author_name': 'Ferdinando Bon ﬁglio'}\n",
            "{'affiliation': 'Hopp-Children ’s Cancer Center at the NCT Heidelberg (KiTZ), Heidelberg, Germany', 'author_name': 'Ferdinando Bon ﬁglio'}\n",
            "{'affiliation': 'Division of Neuroblastoma Genomics, German Cancer Research Center (DKFZ), Heidelberg, Germany', 'author_name': 'Ferdinando Bon ﬁglio'}\n",
            "{'affiliation': 'German Cancer Consortium (DKTK), Heidelberg, Germany', 'author_name': 'Ferdinando Bon ﬁglio'}\n",
            "{'affiliation': 'Department of Laboratory Medicine and Pathology, University of Washington Medical Center, Seattle, WA, USA', 'author_name': 'Yongjun Liu'}\n",
            "{'affiliation': 'State Key Laboratory of Oncology in South China, Sun Yat-sen University Cancer Center, Guangzhou, Guangdong, China', 'author_name': 'Yuqing Xu'}\n",
            "{'affiliation': 'State Key Laboratory of Oncology in South China, Sun Yat-sen University Cancer Center, Guangzhou, Guangdong, China', 'author_name': 'Mengke Chen'}\n",
            "{'affiliation': 'Department of Statistics, University of Wisconsin-Madison, Madison, WI, USA', 'author_name': 'Yuqing Xu'}\n",
            "{'affiliation': 'Department of Statistics and Finance, University of Science and Technology of China, Hefei, China', 'author_name': 'Xueqin Wang'}\n",
            "{'affiliation': 'Department of Gastroenterology, First Affiliated Hospital of Sun Yat-sen University, Guangzhou, China', 'author_name': 'Ning Zhang'}\n",
            "{'affiliation': 'Yale School of Public Health, Yale University, New Haven, CT, USA', 'author_name': 'Heping Zhang'}\n",
            "{'affiliation': 'Department of Biostatistics and Medical Informatics, School of Medicine and Public Health, University of Wisconsin-Madison, Madison, WI, USA', 'author_name': 'Zhengjun Zhang'}\n",
            "{'affiliation': 'School of Economics and Management, and MOE Social Science Laboratory of Digital Economic Forecasts and Policy Simulation, University of Chinese Academy of Sciences, Center for Forecasting Sciences, Chinese Academy of Sciences, Beijing, China', 'author_name': 'Zhengjun Zhang'}\n",
            "{'affiliation': 'University of Melbourne', 'author_name': 'A list of authors and their affiliations appears at the end of the paper'}\n",
            "                                          affiliation  \\\n",
            "0   CEINGE Biotecnologie Avanzate s.c.ar.l., Naple...   \n",
            "1   Department of Chemical, Materials and Producti...   \n",
            "2   Department of Molecular Medicine and Medical B...   \n",
            "3   European School of Medical Medicine, Universit...   \n",
            "4   Laboratory of Molecular Biology, IRCCS Istitut...   \n",
            "5   Department of Medical Biotechnologies, Univers...   \n",
            "6   Hopp-Children ’s Cancer Center at the NCT Heid...   \n",
            "7   Division of Neuroblastoma Genomics, German Can...   \n",
            "8   German Cancer Consortium (DKTK), Heidelberg, G...   \n",
            "9   Department of Laboratory Medicine and Patholog...   \n",
            "10  State Key Laboratory of Oncology in South Chin...   \n",
            "11  State Key Laboratory of Oncology in South Chin...   \n",
            "12  Department of Statistics, University of Wiscon...   \n",
            "13  Department of Statistics and Finance, Universi...   \n",
            "14  Department of Gastroenterology, First Affiliat...   \n",
            "15  Yale School of Public Health, Yale University,...   \n",
            "16  Department of Biostatistics and Medical Inform...   \n",
            "17  School of Economics and Management, and MOE So...   \n",
            "18                            University of Melbourne   \n",
            "\n",
            "                                          author_name  \n",
            "0                                Ferdinando Bon ﬁglio  \n",
            "1                                Ferdinando Bon ﬁglio  \n",
            "2                                Ferdinando Bon ﬁglio  \n",
            "3                                Ferdinando Bon ﬁglio  \n",
            "4                                Ferdinando Bon ﬁglio  \n",
            "5                                Ferdinando Bon ﬁglio  \n",
            "6                                Ferdinando Bon ﬁglio  \n",
            "7                                Ferdinando Bon ﬁglio  \n",
            "8                                Ferdinando Bon ﬁglio  \n",
            "9                                         Yongjun Liu  \n",
            "10                                          Yuqing Xu  \n",
            "11                                        Mengke Chen  \n",
            "12                                          Yuqing Xu  \n",
            "13                                        Xueqin Wang  \n",
            "14                                         Ning Zhang  \n",
            "15                                       Heping Zhang  \n",
            "16                                     Zhengjun Zhang  \n",
            "17                                     Zhengjun Zhang  \n",
            "18  A list of authors and their affiliations appea...  \n"
          ]
        }
      ],
      "source": [
        "if \"dataset\" not in locals():\n",
        "    dataset = pz.Dataset(\"bdf-demo\", schema=ScientificPaper)\n",
        "convert_schema = AuthorAffiliationSchema\n",
        "\n",
        "caridinality_str = \"one_to_many\"\n",
        "\n",
        "cardinality = pz.Cardinality.ONE_TO_MANY if caridinality_str == \"one_to_many\" else pz.Cardinality.ONE_TO_ONE\n",
        "\n",
        "dataset = dataset.convert(convert_schema, desc=AuthorAffiliationSchema.__doc__, cardinality=cardinality)\n",
        "\n",
        "dataset\n",
        "if \"dataset\" not in locals():\n",
        "    output = \"bdf-demo\"\n",
        "else:\n",
        "    output = dataset\n",
        "\n",
        "policy_method = \"min_cost\"\n",
        "\n",
        "# optimization block\n",
        "engine = pz.StreamingSequentialExecution\n",
        "if policy_method == \"min_cost\":\n",
        "    policy = pz.MinCost()\n",
        "elif policy_method == \"max_quality\":\n",
        "    policy = pz.MaxQuality()\n",
        "iterable  =  pz.Execute(output,\n",
        "                        policy = policy,\n",
        "                        nocache=True,\n",
        "                        allow_code_synth=False,\n",
        "                        allow_token_reduction=False,\n",
        "                        execution_engine=engine)\n",
        "\n",
        "results = []\n",
        "statistics = []\n",
        "\n",
        "for idx, (extraction, plan, stats) in enumerate(iterable):\n",
        "\n",
        "    record_time = time.time()\n",
        "    statistics.append(stats)\n",
        "\n",
        "    for ex in extraction:\n",
        "        ex_obj = {}\n",
        "        for name in output.schema.fieldNames():\n",
        "            ex_obj[name] = ex.__getattribute__(name)\n",
        "        print(ex_obj)\n",
        "        results.append(ex_obj)\n",
        "\n",
        "results_df = pd.DataFrame(results)\n",
        "print(results_df)\n",
        "# context: frozendict.frozendict({'type': 'tool', 'name': 'filter_data'})\n",
        "# Unable to parse result."
      ]
    },
    {
      "cell_type": "code",
      "execution_count": null,
      "id": "1be5ca24",
      "metadata": {},
      "outputs": [],
      "source": [
        "if \"dataset\" not in locals():\n",
        "    print(\"Setting dataset\")\n",
        "    dataset = pz.Dataset(\"bdf-demo\", schema=ScientificPaper)\n",
        "condition = \"The paper is published from 2019 onwards\"\n",
        "\n",
        "dataset = dataset.filter(condition)\n",
        "\n",
        "dataset\n",
        "if \"dataset\" not in locals():\n",
        "    dataset = pz.Dataset(\"bdf-demo\", schema=ScientificPaper)\n",
        "convert_schema = AuthorAffiliationSchema\n",
        "\n",
        "caridinality_str = \"one_to_many\"\n",
        "cardinality = pz.Cardinality.ONE_TO_MANY if caridinality_str == \"one_to_many\" else pz.Cardinality.ONE_TO_ONE\n",
        "dataset = dataset.convert(convert_schema, desc=AuthorAffiliationSchema.__doc__, cardinality=cardinality)\n",
        "dataset\n",
        "# Error: KeyError 'PDFFile.b434331434.contents'"
      ]
    },
    {
      "cell_type": "code",
      "execution_count": null,
      "id": "81d5695f",
      "metadata": {},
      "outputs": [],
      "source": [
        "\n",
        "if \"dataset\" not in locals():\n",
        "    output = \"bdf-demo\"\n",
        "else:\n",
        "    output = dataset\n",
        "\n",
        "policy_method = \"min_cost\"\n",
        "\n",
        "# optimization block\n",
        "engine = pz.StreamingSequentialExecution\n",
        "if policy_method == \"min_cost\":\n",
        "    policy = pz.MinCost()\n",
        "elif policy_method == \"max_quality\":\n",
        "    policy = pz.MaxQuality()\n",
        "iterable  =  pz.Execute(output,\n",
        "                        policy = policy,\n",
        "                        nocache=True,\n",
        "                        allow_code_synth=False,\n",
        "                        allow_token_reduction=False,\n",
        "                        execution_engine=engine)\n",
        "\n",
        "results = []\n",
        "statistics = []\n",
        "\n",
        "for idx, (extraction, plan, stats) in enumerate(iterable):\n",
        "\n",
        "    record_time = time.time()\n",
        "    statistics.append(stats)\n",
        "\n",
        "    for ex in extraction:\n",
        "        ex_obj = {}\n",
        "        for name in output.schema.fieldNames():\n",
        "            ex_obj[name] = ex.__getattribute__(name)\n",
        "        print(ex_obj)\n",
        "        results.append(ex_obj)\n",
        "\n",
        "results_df = pd.DataFrame(results)\n",
        "print(results_df)\n"
      ]
    }
  ],
  "metadata": {
    "kernelspec": {
      "display_name": "Python 3",
      "language": "python",
      "name": "python3"
    },
    "language_info": {
      "codemirror_mode": {
        "name": "ipython",
        "version": 3
      },
      "file_extension": ".py",
      "mimetype": "text/x-python",
      "name": "python",
      "nbconvert_exporter": "python",
      "pygments_lexer": "ipython3",
      "version": "3.11.10"
    }
  },
  "nbformat": 4,
  "nbformat_minor": 5
}
