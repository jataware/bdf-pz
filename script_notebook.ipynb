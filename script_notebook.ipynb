{
 "cells": [
  {
   "cell_type": "code",
   "execution_count": 1,
   "id": "53df6f72",
   "metadata": {},
   "outputs": [
    {
     "name": "stdout",
     "output_type": "stream",
     "text": [
      "Setup complete\n"
     ]
    }
   ],
   "source": [
    "import palimpzest as pz\n",
    "import pandas as pd\n",
    "import time\n",
    "import os\n",
    "import IPython\n",
    "\n",
    "formatter = IPython.get_ipython().display_formatter.formatters['text/plain']\n",
    "formatter.max_seq_length = 0\n",
    "\n",
    "# set OPENAI_API_KEY environment variable based on OPENAI_API_KEY\n",
    "# os.environ[\"OPENAI_API_KEY\"] = \"{{ OPENAI_API_KEY }}\" \n",
    "\n",
    "sci_paper_cols = [\n",
    "    {\"name\": \"title\", \"type\": str, \"desc\": \"The title of the paper. This is a natural language title, not a number or letter.\"},\n",
    "    {\"name\": \"author\", \"type\": str, \"desc\": \"The name of the first author of the paper\"},\n",
    "    {\"name\": \"abstract\", \"type\": str, \"desc\": \"A short description of the paper contributions and findings\"},\n",
    "]\n",
    "\n",
    "reference_cols = [\n",
    "    {\"name\": \"index\", \"type\": int, \"desc\": \"The index of the reference in the paper\"},\n",
    "    {\"name\": \"title\", \"type\": str, \"desc\": \"The title of the paper being cited\"},\n",
    "    {\"name\": \"first_author\", \"type\": str, \"desc\": \"The author of the paper being cited\"},\n",
    "    {\"name\": \"year\", \"type\": int, \"desc\": \"The year in which the cited paper was published\"},\n",
    "]\n",
    "\n",
    "print(\"Setup complete\")"
   ]
  },
  {
   "cell_type": "markdown",
   "id": "39f830aa",
   "metadata": {},
   "source": [
    "What are the datasets available in the system?"
   ]
  },
  {
   "cell_type": "code",
   "execution_count": 2,
   "id": "40ed3fff",
   "metadata": {},
   "outputs": [
    {
     "data": {
      "text/html": [
       "<table>\n",
       "    <thead>\n",
       "        <tr>\n",
       "            <th>Name</th>\n",
       "            <th>Path</th>\n",
       "            <th>N. Files</th>\n",
       "        </tr>\n",
       "    </thead>\n",
       "    <tbody>\n",
       "        <tr>\n",
       "            <td>bdf-usecase3-tiny</td>\n",
       "            <td>/home/gerardo/bdf-pz/testdata/bdf-usecase3-tiny</td>\n",
       "            <td>4</td>\n",
       "        </tr>\n",
       "        <tr>\n",
       "            <td>sigmod-demo</td>\n",
       "            <td>/home/gerardo/bdf-pz/testdata/sigmod-demo</td>\n",
       "            <td>11</td>\n",
       "        </tr>\n",
       "        <tr>\n",
       "            <td>bdf-demo</td>\n",
       "            <td>/home/gerardo/bdf-pz/testdata/bdf-demo</td>\n",
       "            <td>11</td>\n",
       "        </tr>\n",
       "    </tbody>\n",
       "</table>"
      ],
      "text/plain": [
       "+-------------------+-------------------------------------------------+----------+\n",
       "|        Name       |                       Path                      | N. Files |\n",
       "+-------------------+-------------------------------------------------+----------+\n",
       "| bdf-usecase3-tiny | /home/gerardo/bdf-pz/testdata/bdf-usecase3-tiny |    4     |\n",
       "|    sigmod-demo    |    /home/gerardo/bdf-pz/testdata/sigmod-demo    |    11    |\n",
       "|      bdf-demo     |      /home/gerardo/bdf-pz/testdata/bdf-demo     |    11    |\n",
       "+-------------------+-------------------------------------------------+----------+"
      ]
     },
     "execution_count": 2,
     "metadata": {},
     "output_type": "execute_result"
    }
   ],
   "source": [
    "import pandas as pd\n",
    "from prettytable import PrettyTable\n",
    "\n",
    "dataset_path = \"/home/gerardo/bdf-pz/testdata\"\n",
    "ds = os.listdir(dataset_path)\n",
    "\n",
    "# construct table for printing\n",
    "records = [[\"Name\", \"Path\", \"N. Files\"]]\n",
    "for path in ds:\n",
    "    abspath = os.path.join(dataset_path,path)\n",
    "    records.append([path,abspath,len(os.listdir(abspath))])\n",
    "\n",
    "# print table of registered datasets\n",
    "t = PrettyTable(records[0])\n",
    "t.add_rows(records[1:])\n",
    "t"
   ]
  },
  {
   "cell_type": "markdown",
   "id": "558fbbcb",
   "metadata": {},
   "source": [
    "Show me the files available in bdf-demo"
   ]
  },
  {
   "cell_type": "code",
   "execution_count": 3,
   "id": "a2e8a7a6",
   "metadata": {},
   "outputs": [
    {
     "data": {
      "text/plain": [
       "['bolderson2010.pdf',\n",
       " 'bonfiglio2023.pdf',\n",
       " 'marques2021.pdf',\n",
       " 'brunyanszki2014.pdf',\n",
       " 'liu2024.pdf',\n",
       " 'li2021.pdf',\n",
       " 'zethoven2022.pdf',\n",
       " 'vasaikar2019.pdf',\n",
       " 'ceccaldi2015.pdf',\n",
       " 'munkhbaatar2020.pdf',\n",
       " 'gupte2017.pdf']"
      ]
     },
     "execution_count": 3,
     "metadata": {},
     "output_type": "execute_result"
    }
   ],
   "source": [
    "import os\n",
    "files = os.listdir(\"/home/gerardo/bdf-pz/testdata/bdf-demo\")\n",
    "\n",
    "files"
   ]
  },
  {
   "cell_type": "markdown",
   "id": "a1006af8",
   "metadata": {},
   "source": [
    "Create a schema to extract authors."
   ]
  },
  {
   "cell_type": "code",
   "execution_count": 4,
   "id": "fe45d526",
   "metadata": {},
   "outputs": [
    {
     "data": {
      "text/plain": [
       "[{'name': 'name', 'type': str, 'desc': 'The full name of the author.'},\n",
       " {'name': 'affiliation',\n",
       "  'type': str,\n",
       "  'desc': 'The affiliation of the author.'},\n",
       " {'name': 'email', 'type': str, 'desc': 'The email address of the author.'}]"
      ]
     },
     "execution_count": 4,
     "metadata": {},
     "output_type": "execute_result"
    }
   ],
   "source": [
    "# Define a class name\n",
    "class_name = \"Author\"\n",
    "\n",
    "# Create the class dynamically\n",
    "attributes = {\"__doc__\": \" Schema for extracting author information from documents.\"}\n",
    "\n",
    "schema_dicts = []\n",
    "for name, desc in zip(['name', 'affiliation', 'email'], ['The full name of the author.', 'The affiliation of the author.', 'The email address of the author.']):\n",
    "    schema_dicts.append({\"name\":name, \"type\":str, \"desc\":desc})\n",
    "\n",
    "schema_dicts"
   ]
  },
  {
   "cell_type": "markdown",
   "id": "0fb28f34",
   "metadata": {},
   "source": [
    "Consider the bdf-demo dataset. This is a dataset of scientific papers. Extract all authors of papers about brain cancer."
   ]
  },
  {
   "cell_type": "code",
   "execution_count": 5,
   "id": "ec2cf727",
   "metadata": {},
   "outputs": [],
   "source": [
    "import palimpzest as pz\n",
    "# try:\n",
    "    # schema = existing_schemas[\"Author\"]\n",
    "# except KeyError:\n",
    "    # raise ValueError(f\"Schema 'Author' not found in existing schemas!\")\n",
    "dataset = pz.Dataset(\"testdata/bdf-demo\")\n"
   ]
  },
  {
   "cell_type": "code",
   "execution_count": 6,
   "id": "c3e57e12",
   "metadata": {},
   "outputs": [],
   "source": [
    "condition = \"The paper is about brain cancer.\"\n",
    "dataset = dataset.sem_filter(condition)"
   ]
  },
  {
   "cell_type": "code",
   "execution_count": 7,
   "id": "19c1fd70",
   "metadata": {},
   "outputs": [],
   "source": [
    "convert_schema = schema_dicts\n",
    "cardinality_str = \"one_to_many\"\n",
    "cardinality = pz.Cardinality.ONE_TO_MANY if cardinality_str == \"one_to_many\" else pz.Cardinality.ONE_TO_ONE\n",
    "dataset = dataset.sem_add_columns(convert_schema, cardinality=cardinality)"
   ]
  },
  {
   "cell_type": "code",
   "execution_count": 8,
   "id": "17a863cf",
   "metadata": {},
   "outputs": [],
   "source": [
    "if \"dataset\" not in locals():\n",
    "    output = \"bdf-demo\"\n",
    "else:\n",
    "    output = dataset\n",
    "\n",
    "policy_method = \"min_cost\"\n",
    "\n",
    "# optimization block\n",
    "if policy_method == \"min_cost\":\n",
    "    policy = pz.MinCost()\n",
    "elif policy_method == \"max_quality\":\n",
    "    policy = pz.MaxQuality()\n",
    "\n",
    "config = pz.QueryProcessorConfig(\n",
    "    policy=policy,\n",
    "    nocache=True,\n",
    "    verbose=False,\n",
    "    processing_strategy=\"streaming\",\n",
    "    execution_strategy=\"sequential\",\n",
    "    optimizer_strategy=\"pareto\",\n",
    "    allow_token_reduction=False,\n",
    "    allow_code_synth=False,\n",
    ")\n",
    "\n",
    "iterable = output.run(config)"
   ]
  },
  {
   "cell_type": "code",
   "execution_count": 9,
   "id": "3206d339",
   "metadata": {},
   "outputs": [
    {
     "name": "stdout",
     "output_type": "stream",
     "text": [
      "Time for planning:  0.00623321533203125\n",
      "Generated plan:\n",
      "  0. MarshalAndScanDataOp -> PDFFile \n",
      "\n",
      " 1. PDFFile -> LLMFilter -> PDFFile\n",
      "    (contents, filename, text_conte) -> (contents, filename, text_conte)\n",
      "    Model: Model.GPT_4o_MINI\n",
      "    Filter: The paper is about brain cancer.\n",
      "\n",
      " 2. PDFFile -> LLMConvertBonded -> Schema[['affiliation', 'contents', 'email', 'filename', 'name', 'text_contents']]\n",
      "    (contents, filename, text_conte) -> (affiliation, contents, email, )\n",
      "    Model: Model.GPT_4o_MINI\n",
      "    Prompt Strategy: PromptStrategy.COT_QA\n",
      "\n",
      "\n"
     ]
    }
   ],
   "source": [
    "statistics = []\n",
    "results = []\n",
    "for data_record_collection in iterable:\n",
    "    records = data_record_collection.data_records\n",
    "    stats = data_record_collection.plan_stats\n",
    "    record_time = time.time()\n",
    "    statistics.append(stats)\n",
    "    results.extend([r.to_dict() for r in records])\n",
    "\n",
    "results_df = pd.DataFrame(results)"
   ]
  },
  {
   "cell_type": "code",
   "execution_count": 10,
   "id": "2aa99409",
   "metadata": {},
   "outputs": [
    {
     "data": {
      "text/html": [
       "<div>\n",
       "<style scoped>\n",
       "    .dataframe tbody tr th:only-of-type {\n",
       "        vertical-align: middle;\n",
       "    }\n",
       "\n",
       "    .dataframe tbody tr th {\n",
       "        vertical-align: top;\n",
       "    }\n",
       "\n",
       "    .dataframe thead th {\n",
       "        text-align: right;\n",
       "    }\n",
       "</style>\n",
       "<table border=\"1\" class=\"dataframe\">\n",
       "  <thead>\n",
       "    <tr style=\"text-align: right;\">\n",
       "      <th></th>\n",
       "      <th>contents</th>\n",
       "      <th>filename</th>\n",
       "      <th>text_contents</th>\n",
       "      <th>affiliation</th>\n",
       "      <th>email</th>\n",
       "      <th>name</th>\n",
       "    </tr>\n",
       "  </thead>\n",
       "  <tbody>\n",
       "    <tr>\n",
       "      <th>0</th>\n",
       "      <td>b'%PDF-1.3\\n%\\xc7\\xec\\x8f\\xa2\\n5 0 obj\\n&lt;&lt;/Len...</td>\n",
       "      <td>marques2021.pdf</td>\n",
       "      <td>*For correspondence:\\nCorrespondence: maria.ca...</td>\n",
       "      <td>Seve Ballesteros Foundation Brain Tumor Group,...</td>\n",
       "      <td>maria.carro@uniklinik-freiburg.de</td>\n",
       "      <td>Carolina Marques</td>\n",
       "    </tr>\n",
       "  </tbody>\n",
       "</table>\n",
       "</div>"
      ],
      "text/plain": [
       "                                            contents         filename  \\\n",
       "0  b'%PDF-1.3\\n%\\xc7\\xec\\x8f\\xa2\\n5 0 obj\\n<</Len...  marques2021.pdf   \n",
       "\n",
       "                                       text_contents  \\\n",
       "0  *For correspondence:\\nCorrespondence: maria.ca...   \n",
       "\n",
       "                                         affiliation  \\\n",
       "0  Seve Ballesteros Foundation Brain Tumor Group,...   \n",
       "\n",
       "                               email              name  \n",
       "0  maria.carro@uniklinik-freiburg.de  Carolina Marques  "
      ]
     },
     "execution_count": 10,
     "metadata": {},
     "output_type": "execute_result"
    }
   ],
   "source": [
    "results_df"
   ]
  },
  {
   "cell_type": "code",
   "execution_count": 15,
   "id": "1be5ca24",
   "metadata": {},
   "outputs": [
    {
     "name": "stdout",
     "output_type": "stream",
     "text": [
      "56.8012158870697\n"
     ]
    }
   ],
   "source": [
    "print(stats.total_plan_time)"
   ]
  }
 ],
 "metadata": {
  "kernelspec": {
   "display_name": "bdf-pz",
   "language": "python",
   "name": "python3"
  },
  "language_info": {
   "codemirror_mode": {
    "name": "ipython",
    "version": 3
   },
   "file_extension": ".py",
   "mimetype": "text/x-python",
   "name": "python",
   "nbconvert_exporter": "python",
   "pygments_lexer": "ipython3",
   "version": "3.11.11"
  }
 },
 "nbformat": 4,
 "nbformat_minor": 5
}
